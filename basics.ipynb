{
 "cells": [
  {
   "cell_type": "code",
   "execution_count": 1,
   "metadata": {},
   "outputs": [
    {
     "name": "stdout",
     "output_type": "stream",
     "text": [
      "4\n"
     ]
    }
   ],
   "source": [
    "add = lambda x,y :x+y\n",
    "print(add(1,3))\n"
   ]
  },
  {
   "cell_type": "code",
   "execution_count": null,
   "metadata": {},
   "outputs": [],
   "source": []
  },
  {
   "cell_type": "code",
   "execution_count": null,
   "metadata": {},
   "outputs": [],
   "source": []
  },
  {
   "cell_type": "code",
   "execution_count": 3,
   "metadata": {},
   "outputs": [
    {
     "name": "stdout",
     "output_type": "stream",
     "text": [
      "10\n"
     ]
    }
   ],
   "source": [
    "class Arya :\n",
    "    a=10\n",
    "a1=Arya()\n",
    "print(a1.a)"
   ]
  },
  {
   "cell_type": "code",
   "execution_count": null,
   "metadata": {},
   "outputs": [
    {
     "name": "stdout",
     "output_type": "stream",
     "text": [
      "10\n",
      "<class 'int'>\n"
     ]
    }
   ],
   "source": [
    "class Arya :\n",
    "    def __init__(self):\n",
    "        self.a=10 #instance Variable\n",
    "a1=Arya()\n",
    "print(a1.a)\n",
    "print(type(a1.a))"
   ]
  },
  {
   "cell_type": "code",
   "execution_count": 1,
   "metadata": {},
   "outputs": [
    {
     "name": "stdout",
     "output_type": "stream",
     "text": [
      "<class 'int'>\n"
     ]
    }
   ],
   "source": [
    "a=10\n",
    "print(type(a))"
   ]
  },
  {
   "cell_type": "code",
   "execution_count": 9,
   "metadata": {},
   "outputs": [
    {
     "name": "stdout",
     "output_type": "stream",
     "text": [
      "AryaOld\n",
      "1-2-3\n"
     ]
    }
   ],
   "source": [
    "class aryaold :\n",
    "    def __init__(self,name,date):\n",
    "        self.name=name\n",
    "        self.date=date\n",
    "\n",
    "a1=aryaold(\"AryaOld\",\"1-2-3\")\n",
    "print(a1.name)\n",
    "print(a1.date)"
   ]
  },
  {
   "cell_type": "code",
   "execution_count": 11,
   "metadata": {},
   "outputs": [
    {
     "name": "stdout",
     "output_type": "stream",
     "text": [
      "Ganesh Dixit\n",
      "AI&DS\n"
     ]
    }
   ],
   "source": [
    "class Arya :\n",
    "    def __init__(self,HOD,Dept):\n",
    "        self.HOD=HOD\n",
    "        self.Dept=Dept\n",
    "    def display(self):\n",
    "        print(self.HOD)\n",
    "        print(self.Dept)\n",
    "\n",
    "obj=Arya(\"Ganesh Dixit\",\"AI&DS\")\n",
    "obj.display()"
   ]
  },
  {
   "cell_type": "code",
   "execution_count": 14,
   "metadata": {},
   "outputs": [
    {
     "name": "stdout",
     "output_type": "stream",
     "text": [
      "Ganesh Dixit\n",
      "AI&DS\n"
     ]
    }
   ],
   "source": [
    "class A:\n",
    "    def __init__(self,HOD,Dept):\n",
    "        self.HOD=HOD\n",
    "        self.Dept=Dept\n",
    "    def display(self):\n",
    "        print(self.HOD)\n",
    "        print(self.Dept)\n",
    "\n",
    "class B(A):\n",
    "    def display(self):\n",
    "        print(self.HOD)\n",
    "        print(self.Dept)    \n",
    "\n",
    "obj=B(\"Ganesh Dixit\",\"AI&DS\")\n",
    "obj.display()"
   ]
  },
  {
   "cell_type": "code",
   "execution_count": 18,
   "metadata": {},
   "outputs": [
    {
     "name": "stdout",
     "output_type": "stream",
     "text": [
      "Hello\n",
      "<__main__.B object at 0x0000016AFB541BB0>\n"
     ]
    }
   ],
   "source": [
    "class A:\n",
    "    name = \"Arya Main\"\n",
    "class B(A):\n",
    "    print(\"Hello\")\n",
    "\n",
    "a=B()\n",
    "print(a)"
   ]
  },
  {
   "cell_type": "code",
   "execution_count": 23,
   "metadata": {},
   "outputs": [
    {
     "name": "stdout",
     "output_type": "stream",
     "text": [
      "1234\n",
      "Customer Details\n"
     ]
    }
   ],
   "source": [
    "class BankDetails:\n",
    "    def __init__(self,AccNum):\n",
    "        self.AccNum=AccNum\n",
    "    def customer(self):\n",
    "        print(\"Customer Details\")\n",
    "class Customer(BankDetails):\n",
    "    def __init__(self, AccNum):\n",
    "        BankDetails.__init__(self,AccNum)\n",
    "    def display(self):\n",
    "        print(self.AccNum)\n",
    "\n",
    "obj=Customer(1234)\n",
    "obj.display()\n",
    "obj.customer()\n",
    "\n"
   ]
  },
  {
   "cell_type": "code",
   "execution_count": 29,
   "metadata": {},
   "outputs": [
    {
     "name": "stdout",
     "output_type": "stream",
     "text": [
      "Son\n"
     ]
    },
    {
     "data": {
      "text/plain": [
       "'Arya'"
      ]
     },
     "execution_count": 29,
     "metadata": {},
     "output_type": "execute_result"
    }
   ],
   "source": [
    "class Grandfather :\n",
    "    grandfather = \"Arya\"\n",
    "        \n",
    "class Father:\n",
    "    fathername = \"Arya Old\"\n",
    "\n",
    "class Son(Grandfather,Father):\n",
    "    print(\"Son\")\n",
    "\n",
    "obj=Son()\n",
    "obj.grandfather\n"
   ]
  },
  {
   "cell_type": "code",
   "execution_count": 37,
   "metadata": {},
   "outputs": [
    {
     "name": "stdout",
     "output_type": "stream",
     "text": [
      "Son\n",
      "Arya\n",
      "Arya Old\n"
     ]
    }
   ],
   "source": [
    "class Grandfather :\n",
    "    grandfather = \"Arya\"\n",
    "        \n",
    "class Father(Grandfather):\n",
    "    fathername = \"Arya Old\"\n",
    "\n",
    "class Son(Father):\n",
    "    print(\"Son\")\n",
    "\n",
    "obj=Son()\n",
    "print(obj.grandfather)\n",
    "print(obj.fathername)"
   ]
  },
  {
   "cell_type": "code",
   "execution_count": 39,
   "metadata": {},
   "outputs": [],
   "source": [
    "class Person : \n",
    "    pass\n",
    "class Male(Person):\n",
    "    pass\n",
    "class Female(Person):\n",
    "    pass\n",
    "class Child(Male,Female):\n",
    "    pass"
   ]
  },
  {
   "cell_type": "code",
   "execution_count": 45,
   "metadata": {},
   "outputs": [
    {
     "name": "stdout",
     "output_type": "stream",
     "text": [
      "Father\n",
      "Son\n",
      "Daughter\n",
      "Arya\n",
      "Arya\n",
      "Arya\n"
     ]
    }
   ],
   "source": [
    "class Grandfather :\n",
    "    grandfather = \"Arya\"\n",
    "        \n",
    "class Father(Grandfather):\n",
    "    print(\"Father\")\n",
    "    #fathername = \"Arya Old\"\n",
    "\n",
    "class Son(Grandfather):\n",
    "    print(\"Son\")\n",
    "\n",
    "class Daughter(Grandfather):\n",
    "    print(\"Daughter\")\n",
    "\n",
    "obj=Son()\n",
    "print(obj.grandfather)\n",
    "\n",
    "object=Father()\n",
    "print(object.grandfather)\n",
    "\n",
    "obj=Daughter()\n",
    "print(obj.grandfather)"
   ]
  },
  {
   "cell_type": "code",
   "execution_count": 46,
   "metadata": {},
   "outputs": [
    {
     "name": "stdout",
     "output_type": "stream",
     "text": [
      "Arya Main Campus\n"
     ]
    }
   ],
   "source": [
    "#Polymorphism\n",
    "\n",
    "name = \"Arya Main Campus\"\n",
    "print(name)"
   ]
  },
  {
   "cell_type": "code",
   "execution_count": null,
   "metadata": {},
   "outputs": [],
   "source": []
  }
 ],
 "metadata": {
  "kernelspec": {
   "display_name": "Python 3",
   "language": "python",
   "name": "python3"
  },
  "language_info": {
   "codemirror_mode": {
    "name": "ipython",
    "version": 3
   },
   "file_extension": ".py",
   "mimetype": "text/x-python",
   "name": "python",
   "nbconvert_exporter": "python",
   "pygments_lexer": "ipython3",
   "version": "3.12.3"
  }
 },
 "nbformat": 4,
 "nbformat_minor": 2
}
